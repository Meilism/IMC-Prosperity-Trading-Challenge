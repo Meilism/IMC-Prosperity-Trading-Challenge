{
 "cells": [
  {
   "cell_type": "code",
   "execution_count": 1,
   "metadata": {},
   "outputs": [
    {
     "name": "stderr",
     "output_type": "stream",
     "text": [
      "C:\\Users\\Meilism\\AppData\\Local\\Temp\\ipykernel_36292\\2666974600.py:27: FutureWarning: Passing literal json to 'read_json' is deprecated and will be removed in a future version. To read from a literal string, wrap it in a 'StringIO' object.\n",
      "  trade_history = pd.read_json(trade_history)\n"
     ]
    }
   ],
   "source": [
    "import pandas as pd\n",
    "import numpy as np\n",
    "import matplotlib.pyplot as plt\n",
    "\n",
    "log_file = '../../submissions/round2/trader_jm_xf_make_round2_final.log'\n",
    "\n",
    "with open(log_file, 'r') as f:\n",
    "    lines = f.readlines()\n",
    "    \n",
    "    activity_start = 0\n",
    "    while not lines[activity_start].startswith('Activities log:'):\n",
    "        activity_start += 1\n",
    "    activity_start += 1\n",
    "    activity_end = activity_start + 1\n",
    "    while lines[activity_end] != '\\n':\n",
    "        activity_end += 1\n",
    "\n",
    "    trade_start = activity_end + 1\n",
    "    while not lines[trade_start].startswith('Trade History:'):\n",
    "        trade_start += 1\n",
    "    trade_start += 1\n",
    "    trade_end = len(lines)\n",
    "\n",
    "    trade_history = ''.join(lines[trade_start:trade_end])\n",
    "\n",
    "activity_log = pd.read_csv(log_file, skiprows=activity_start, nrows=activity_end-activity_start-1, sep=';')\n",
    "trade_history = pd.read_json(trade_history)\n",
    "market_trades = trade_history[(trade_history.buyer == '') & (trade_history.seller == '')]"
   ]
  },
  {
   "cell_type": "code",
   "execution_count": null,
   "metadata": {},
   "outputs": [],
   "source": []
  }
 ],
 "metadata": {
  "kernelspec": {
   "display_name": "prosperity",
   "language": "python",
   "name": "python3"
  },
  "language_info": {
   "codemirror_mode": {
    "name": "ipython",
    "version": 3
   },
   "file_extension": ".py",
   "mimetype": "text/x-python",
   "name": "python",
   "nbconvert_exporter": "python",
   "pygments_lexer": "ipython3",
   "version": "3.12.2"
  }
 },
 "nbformat": 4,
 "nbformat_minor": 2
}

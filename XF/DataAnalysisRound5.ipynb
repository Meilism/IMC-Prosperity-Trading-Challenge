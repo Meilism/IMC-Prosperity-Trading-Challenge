{
 "cells": [
  {
   "cell_type": "code",
   "execution_count": null,
   "id": "19b01e44",
   "metadata": {},
   "outputs": [],
   "source": [
    "import pandas as pd\n",
    "from matplotlib import pyplot as plt\n",
    "import numpy as np\n",
    "\n",
    "import statsmodels.api as sm\n",
    "\n",
    "import seaborn as sns"
   ]
  },
  {
   "cell_type": "code",
   "execution_count": null,
   "id": "99690b8e",
   "metadata": {},
   "outputs": [],
   "source": [
    "day_0=pd.read_csv(\"../Round3/round-3-island-data-bottle/prices_round_3_day_0.csv\",sep = ';')\n",
    "day_1=pd.read_csv(\"../Round3/round-3-island-data-bottle/prices_round_3_day_1.csv\",sep = ';')\n",
    "day_2=pd.read_csv(\"../Round3/round-3-island-data-bottle/prices_round_3_day_2.csv\",sep = ';')"
   ]
  }
 ],
 "metadata": {
  "kernelspec": {
   "display_name": "Python 3 (ipykernel)",
   "language": "python",
   "name": "python3"
  },
  "language_info": {
   "codemirror_mode": {
    "name": "ipython",
    "version": 3
   },
   "file_extension": ".py",
   "mimetype": "text/x-python",
   "name": "python",
   "nbconvert_exporter": "python",
   "pygments_lexer": "ipython3",
   "version": "3.9.7"
  }
 },
 "nbformat": 4,
 "nbformat_minor": 5
}

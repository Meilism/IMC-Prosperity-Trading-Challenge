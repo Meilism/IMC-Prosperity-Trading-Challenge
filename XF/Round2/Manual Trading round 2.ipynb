{
 "cells": [
  {
   "cell_type": "code",
   "execution_count": 70,
   "id": "f915708d",
   "metadata": {},
   "outputs": [],
   "source": [
    "Conversion = {'Pizza Slice':{'Pizza Slice':1.00, 'Wasabi Root':0.48, 'Snowball': 1.52, 'Shells': 0.71},\n",
    "              'Wasabi Root':{'Pizza Slice':2.05, 'Wasabi Root':1, 'Snowball': 3.26, 'Shells': 1.56},\n",
    "              'Snowball':{'Pizza Slice':0.64, 'Wasabi Root':0.3, 'Snowball': 1, 'Shells': 0.46},\n",
    "              'Shells':{'Pizza Slice':1.41, 'Wasabi Root':0.61, 'Snowball': 2.08, 'Shells': 1},\n",
    "                  \n",
    "             }"
   ]
  },
  {
   "cell_type": "code",
   "execution_count": 76,
   "id": "c3065ca9",
   "metadata": {},
   "outputs": [],
   "source": [
    "def findmax(source,  trader_time):\n",
    "    if trader_time ==4:\n",
    "        return Conversion[source]['Shells']\n",
    "    maxres = 0\n",
    "    for node in Conversion:\n",
    "        res = Conversion[source][node]*dfs(node,trader_time+1)\n",
    "        if maxres < res:\n",
    "            maxres = res\n",
    "    return maxres\n",
    "\n",
    "all_path = []\n",
    "temp = ['Shells']\n",
    "def findpath(source ,  trader_time, res):\n",
    "    if trader_time ==6: \n",
    "        return\n",
    "    if trader_time ==5 and abs(res-1.0569693888)<0.00000000001:\n",
    "        all_path.append(temp[:])\n",
    "    for node in Conversion:\n",
    "        temp.append(node )\n",
    "        findpath(node,trader_time+1,Conversion[source][node]*res)\n",
    "        temp.pop()"
   ]
  },
  {
   "cell_type": "code",
   "execution_count": 64,
   "id": "a159db70",
   "metadata": {},
   "outputs": [
    {
     "data": {
      "text/plain": [
       "1.0569693888"
      ]
     },
     "execution_count": 64,
     "metadata": {},
     "output_type": "execute_result"
    }
   ],
   "source": [
    "findmax('Shells',0)"
   ]
  },
  {
   "cell_type": "code",
   "execution_count": 65,
   "id": "ce53c72f",
   "metadata": {},
   "outputs": [],
   "source": [
    "findpath('Shells',0,1)"
   ]
  },
  {
   "cell_type": "code",
   "execution_count": 66,
   "id": "d6107d93",
   "metadata": {},
   "outputs": [
    {
     "data": {
      "text/plain": [
       "[['Shells', 'Pizza Slice', 'Wasabi Root', 'Shells', 'Pizza Slice', 'Shells'],\n",
       " ['Shells', 'Pizza Slice', 'Shells', 'Pizza Slice', 'Wasabi Root', 'Shells']]"
      ]
     },
     "execution_count": 66,
     "metadata": {},
     "output_type": "execute_result"
    }
   ],
   "source": [
    "all_path"
   ]
  },
  {
   "cell_type": "code",
   "execution_count": 58,
   "id": "71e458a7",
   "metadata": {},
   "outputs": [
    {
     "data": {
      "text/plain": [
       "1.0569693888"
      ]
     },
     "execution_count": 58,
     "metadata": {},
     "output_type": "execute_result"
    }
   ],
   "source": [
    "Conversion['Shells']['Pizza Slice']*Conversion['Pizza Slice']['Wasabi Root']*\\\n",
    "Conversion['Wasabi Root']['Shells']*Conversion['Shells']['Pizza Slice']*Conversion['Pizza Slice']['Shells']"
   ]
  },
  {
   "cell_type": "code",
   "execution_count": 69,
   "id": "813d3dbd",
   "metadata": {},
   "outputs": [
    {
     "data": {
      "text/plain": [
       "1.0569693887999998"
      ]
     },
     "execution_count": 69,
     "metadata": {},
     "output_type": "execute_result"
    }
   ],
   "source": [
    "Conversion['Shells']['Pizza Slice']*Conversion['Pizza Slice']['Shells']*\\\n",
    "Conversion['Shells']['Pizza Slice']*Conversion['Pizza Slice']['Wasabi Root']*Conversion['Wasabi Root']['Shells']"
   ]
  },
  {
   "cell_type": "code",
   "execution_count": 68,
   "id": "fc9265fc",
   "metadata": {},
   "outputs": [
    {
     "data": {
      "text/plain": [
       "2.220446049250313e-16"
      ]
     },
     "execution_count": 68,
     "metadata": {},
     "output_type": "execute_result"
    }
   ],
   "source": []
  },
  {
   "cell_type": "code",
   "execution_count": null,
   "id": "bf25afe6",
   "metadata": {},
   "outputs": [],
   "source": []
  }
 ],
 "metadata": {
  "kernelspec": {
   "display_name": "Python 3 (ipykernel)",
   "language": "python",
   "name": "python3"
  },
  "language_info": {
   "codemirror_mode": {
    "name": "ipython",
    "version": 3
   },
   "file_extension": ".py",
   "mimetype": "text/x-python",
   "name": "python",
   "nbconvert_exporter": "python",
   "pygments_lexer": "ipython3",
   "version": "3.9.7"
  }
 },
 "nbformat": 4,
 "nbformat_minor": 5
}

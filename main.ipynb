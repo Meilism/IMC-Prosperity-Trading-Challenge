{
 "cells": [
  {
   "cell_type": "markdown",
   "metadata": {},
   "source": [
    "# Prosperity trading algorithm"
   ]
  },
  {
   "cell_type": "markdown",
   "metadata": {},
   "source": [
    "## Set up"
   ]
  },
  {
   "cell_type": "markdown",
   "metadata": {},
   "source": [
    "Import all nessesary dependencies and create an example `TradingState` object."
   ]
  },
  {
   "cell_type": "code",
   "execution_count": 1,
   "metadata": {},
   "outputs": [],
   "source": [
    "from datamodel import Listing, Trade, OrderDepth, TradingState, Observation\n",
    "\n",
    "timestamp = 1000\n",
    "\n",
    "listings = {\n",
    "\t\"AMETHYSTS\": Listing(\n",
    "\t\tsymbol=\"AMETHYSTS\", \n",
    "\t\tproduct=\"AMETHYSTS\", \n",
    "\t\tdenomination=\"SEASHELLS\"\n",
    "\t),\n",
    "\t\"STARFRUIT\": Listing(\n",
    "\t\tsymbol=\"STARFRUIT\", \n",
    "\t\tproduct=\"STARFRUIT\",\n",
    "\t\tdenomination=\"SEASHELLS\"\n",
    "\t),\n",
    "}\n",
    "\n",
    "order_depths = {\n",
    "\t\"AMETHYSTS\": OrderDepth(\n",
    "\t\tbuy_orders={10: 7, 9: 5},\n",
    "\t\tsell_orders={11: -4, 12: -8}\n",
    "\t),\n",
    "\t\"STARFRUIT\": OrderDepth(\n",
    "\t\tbuy_orders={142: 3, 141: 5},\n",
    "\t\tsell_orders={144: -5, 145: -8}\n",
    "\t),\t\n",
    "}\n",
    "\n",
    "own_trades = {\n",
    "\t\"AMETHYSTS\": [],\n",
    "\t\"STARFRUIT\": []\n",
    "}\n",
    "\n",
    "market_trades = {\n",
    "\t\"AMETHYSTS\": [\n",
    "\t\tTrade(\n",
    "\t\t\tsymbol=\"AMETHYSTS\",\n",
    "\t\t\tprice=11,\n",
    "\t\t\tquantity=4,\n",
    "\t\t\tbuyer=\"\",\n",
    "\t\t\tseller=\"\",\n",
    "\t\t\ttimestamp=900\n",
    "\t\t)\n",
    "\t],\n",
    "\t\"STARFRUIT\": []\n",
    "}\n",
    "\n",
    "position = {\n",
    "\t\"AMETHYSTS\": 3,\n",
    "\t\"STARFRUIT\": -5\n",
    "}\n",
    "\n",
    "observations = Observation(plainValueObservations={},\n",
    "                           conversionObservations={})\n",
    "traderData = \"\"\n",
    "\n",
    "state = TradingState(\n",
    "\ttraderData,\n",
    "\ttimestamp,\n",
    "    listings,\n",
    "\torder_depths,\n",
    "\town_trades,\n",
    "\tmarket_trades,\n",
    "\tposition,\n",
    "\tobservations\n",
    ")"
   ]
  },
  {
   "cell_type": "markdown",
   "metadata": {},
   "source": [
    "## Trader class"
   ]
  },
  {
   "cell_type": "markdown",
   "metadata": {},
   "source": [
    "Test trader class locally"
   ]
  },
  {
   "cell_type": "code",
   "execution_count": 2,
   "metadata": {},
   "outputs": [
    {
     "name": "stdout",
     "output_type": "stream",
     "text": [
      "[[1000,\"\",[[\"AMETHYSTS\",\"AMETHYSTS\",\"SEASHELLS\"],[\"STARFRUIT\",\"STARFRUIT\",\"SEASHELLS\"]],{\"AMETHYSTS\":[{\"10\":7,\"9\":5},{\"11\":-4,\"12\":-8}],\"STARFRUIT\":[{\"142\":3,\"141\":5},{\"144\":-5,\"145\":-8}]},[],[[\"AMETHYSTS\",11,4,\"\",\"\",900]],{\"AMETHYSTS\":3,\"STARFRUIT\":-5},[{},{}]],[[\"AMETHYSTS\",9998,13],[\"AMETHYSTS\",9996,3],[\"AMETHYSTS\",10002,-18],[\"AMETHYSTS\",10004,-4]],0,\"{\\\"AMETHYSTS\\\": {\\\"position_limit\\\": 20, \\\"buy_price\\\": [{\\\"py/tuple\\\": [9998, 0.8]}, {\\\"py/tuple\\\": [9996, 0.2]}], \\\"sell_price\\\": [{\\\"py/tuple\\\": [10002, 0.8]}, {\\\"py/tuple\\\": [10004, 0.2]}]}, \\\"STARFRUIT\\\": {\\\"position_limit\\\": 20}}\",\"\"]\n"
     ]
    }
   ],
   "source": [
    "from JM.trader_jm import Trader\n",
    "\n",
    "trader = Trader()\n",
    "result, conversions, traderData = trader.run(state)"
   ]
  }
 ],
 "metadata": {
  "kernelspec": {
   "display_name": "trader",
   "language": "python",
   "name": "python3"
  },
  "language_info": {
   "codemirror_mode": {
    "name": "ipython",
    "version": 3
   },
   "file_extension": ".py",
   "mimetype": "text/x-python",
   "name": "python",
   "nbconvert_exporter": "python",
   "pygments_lexer": "ipython3",
   "version": "3.1.undefined"
  }
 },
 "nbformat": 4,
 "nbformat_minor": 2
}

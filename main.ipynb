{
 "cells": [
  {
   "cell_type": "markdown",
   "metadata": {},
   "source": [
    "# Prosperity trading algorithm"
   ]
  },
  {
   "cell_type": "markdown",
   "metadata": {},
   "source": [
    "## Set up"
   ]
  },
  {
   "cell_type": "markdown",
   "metadata": {},
   "source": [
    "### Import all nessesary dependencies and initialize tradingState"
   ]
  },
  {
   "cell_type": "code",
   "execution_count": 1,
   "metadata": {},
   "outputs": [],
   "source": [
    "from datamodel import Listing, OrderDepth, Trade, TradingState\n",
    "\n",
    "timestamp = 1000\n",
    "\n",
    "listings = {\n",
    "\t\"PRODUCT1\": Listing(\n",
    "\t\tsymbol=\"PRODUCT1\", \n",
    "\t\tproduct=\"PRODUCT1\", \n",
    "\t\tdenomination= \"SEASHELLS\"\n",
    "\t),\n",
    "\t\"PRODUCT2\": Listing(\n",
    "\t\tsymbol=\"PRODUCT2\", \n",
    "\t\tproduct=\"PRODUCT2\", \n",
    "\t\tdenomination= \"SEASHELLS\"\n",
    "\t),\n",
    "}\n",
    "\n",
    "order_depths = {\n",
    "\t\"PRODUCT1\": OrderDepth(\n",
    "\t\tbuy_orders={10: 7, 9: 5},\n",
    "\t\tsell_orders={11: -4, 12: -8}\n",
    "\t),\n",
    "\t\"PRODUCT2\": OrderDepth(\n",
    "\t\tbuy_orders={142: 3, 141: 5},\n",
    "\t\tsell_orders={144: -5, 145: -8}\n",
    "\t),\t\n",
    "}\n",
    "\n",
    "own_trades = {\n",
    "\t\"PRODUCT1\": [],\n",
    "\t\"PRODUCT2\": []\n",
    "}\n",
    "\n",
    "market_trades = {\n",
    "\t\"PRODUCT1\": [\n",
    "\t\tTrade(\n",
    "\t\t\tsymbol=\"PRODUCT1\",\n",
    "\t\t\tprice=11,\n",
    "\t\t\tquantity=4,\n",
    "\t\t\tbuyer=\"\",\n",
    "\t\t\tseller=\"\",\n",
    "\t\t\ttimestamp=900\n",
    "\t\t)\n",
    "\t],\n",
    "\t\"PRODUCT2\": []\n",
    "}\n",
    "\n",
    "position = {\n",
    "\t\"PRODUCT1\": 3,\n",
    "\t\"PRODUCT2\": -5\n",
    "}\n",
    "\n",
    "observations = {}\n",
    "traderData = \"\"\n",
    "\n",
    "state = TradingState(\n",
    "\ttraderData,\n",
    "\ttimestamp,\n",
    "    listings,\n",
    "\torder_depths,\n",
    "\town_trades,\n",
    "\tmarket_trades,\n",
    "\tposition,\n",
    "\tobservations\n",
    ")"
   ]
  },
  {
   "cell_type": "markdown",
   "metadata": {},
   "source": [
    "### Set current position limit"
   ]
  },
  {
   "cell_type": "code",
   "execution_count": null,
   "metadata": {},
   "outputs": [],
   "source": []
  },
  {
   "cell_type": "markdown",
   "metadata": {},
   "source": [
    "## Trader class"
   ]
  },
  {
   "cell_type": "markdown",
   "metadata": {},
   "source": []
  }
 ],
 "metadata": {
  "kernelspec": {
   "display_name": "trader",
   "language": "python",
   "name": "python3"
  },
  "language_info": {
   "codemirror_mode": {
    "name": "ipython",
    "version": 3
   },
   "file_extension": ".py",
   "mimetype": "text/x-python",
   "name": "python",
   "nbconvert_exporter": "python",
   "pygments_lexer": "ipython3",
   "version": "3.12.2"
  }
 },
 "nbformat": 4,
 "nbformat_minor": 2
}
